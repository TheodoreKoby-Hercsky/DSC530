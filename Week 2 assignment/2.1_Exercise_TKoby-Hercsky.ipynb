{
 "cells": [
  {
   "cell_type": "markdown",
   "id": "3cb7cd78",
   "metadata": {},
   "source": [
    "# DSC 530-T302\n",
    "## week 2\n",
    "## 2.1 Exercise: Prepairing for Exploratory Data Analysis\n",
    "## Author: Theodore Koby-Hercsky\n",
    "## 06/16/2021"
   ]
  },
  {
   "cell_type": "markdown",
   "id": "d93c51db",
   "metadata": {},
   "source": [
    "## Display Hello World Message"
   ]
  },
  {
   "cell_type": "code",
   "execution_count": 42,
   "id": "7f2327c3",
   "metadata": {},
   "outputs": [
    {
     "name": "stdout",
     "output_type": "stream",
     "text": [
      "Hello World!\n"
     ]
    }
   ],
   "source": [
    "print('Hello World!')"
   ]
  },
  {
   "cell_type": "markdown",
   "id": "e03181b4",
   "metadata": {},
   "source": [
    "## Add, Subtract, Multiply, and Divide two numbers"
   ]
  },
  {
   "cell_type": "code",
   "execution_count": 43,
   "id": "5db23cdc",
   "metadata": {},
   "outputs": [
    {
     "name": "stdout",
     "output_type": "stream",
     "text": [
      "Numbers added equals: 55\n",
      "Numbers subtracted equals: 45\n",
      "Numbers multiplied equals: 250\n",
      "Numbers divided equals: 10.0\n"
     ]
    }
   ],
   "source": [
    "Number_one = 50\n",
    "Number_two = 5\n",
    "# Add numbers\n",
    "print('Numbers added equals:',(Number_one + Number_two))\n",
    "# Subtract numbers\n",
    "print('Numbers subtracted equals:',(Number_one - Number_two))\n",
    "# Multiply numbers\n",
    "print('Numbers multiplied equals:',(Number_one * Number_two))\n",
    "# Divide numbers\n",
    "print('Numbers divided equals:',(Number_one / Number_two))"
   ]
  },
  {
   "cell_type": "markdown",
   "id": "c8721e43",
   "metadata": {},
   "source": [
    "## Concatenate two strings together"
   ]
  },
  {
   "cell_type": "code",
   "execution_count": 44,
   "id": "b8dc16d5",
   "metadata": {},
   "outputs": [
    {
     "name": "stdout",
     "output_type": "stream",
     "text": [
      "Concatenate two strings: In my summer semester I am taking one class titled: Data Exploration and Analysis\n"
     ]
    }
   ],
   "source": [
    "String_one = \"In my summer semester I am taking one class titled:\"\n",
    "String_two = \" Data Exploration and Analysis\"\n",
    "Both_strings = String_one + String_two\n",
    "print('Concatenate two strings:',Both_strings)"
   ]
  },
  {
   "cell_type": "markdown",
   "id": "71cd5762",
   "metadata": {},
   "source": [
    "## Create a list of 4 items and append an item"
   ]
  },
  {
   "cell_type": "code",
   "execution_count": 45,
   "id": "7b66e28a",
   "metadata": {
    "scrolled": true
   },
   "outputs": [
    {
     "name": "stdout",
     "output_type": "stream",
     "text": [
      "first list printed: ['one', 2, 'three', 4]\n",
      "List with append: ['one', 2, 'three', 4, 'five']\n"
     ]
    }
   ],
   "source": [
    "List_one = ['one', 2, 'three', 4]\n",
    "print('first list printed:',List_one)\n",
    "## Append an item to your list\n",
    "List_one.append('five')\n",
    "print('List with append:',List_one)"
   ]
  },
  {
   "cell_type": "markdown",
   "id": "23002535",
   "metadata": {},
   "source": [
    "## Create a tuple with 4 items"
   ]
  },
  {
   "cell_type": "code",
   "execution_count": 46,
   "id": "7f104d84",
   "metadata": {
    "scrolled": true
   },
   "outputs": [
    {
     "name": "stdout",
     "output_type": "stream",
     "text": [
      "My tuple:  ('Golden', 1, 'retriever', 2)\n"
     ]
    }
   ],
   "source": [
    "tuple_one = (\"Golden\", 1, \"retriever\", 2)\n",
    "print('My tuple: ', tuple_one)"
   ]
  }
 ],
 "metadata": {
  "kernelspec": {
   "display_name": "Python 3",
   "language": "python",
   "name": "python3"
  },
  "language_info": {
   "codemirror_mode": {
    "name": "ipython",
    "version": 3
   },
   "file_extension": ".py",
   "mimetype": "text/x-python",
   "name": "python",
   "nbconvert_exporter": "python",
   "pygments_lexer": "ipython3",
   "version": "3.8.8"
  }
 },
 "nbformat": 4,
 "nbformat_minor": 5
}
